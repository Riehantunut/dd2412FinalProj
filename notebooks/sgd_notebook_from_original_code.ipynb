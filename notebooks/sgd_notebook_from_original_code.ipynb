{
  "cells": [
    {
      "cell_type": "markdown",
      "metadata": {
        "id": "08-3K_10YDRI"
      },
      "source": [
        "## Library imports"
      ]
    },
    {
      "cell_type": "code",
      "execution_count": 2,
      "metadata": {
        "colab": {
          "base_uri": "https://localhost:8080/"
        },
        "id": "EIwcpXjn2xOV",
        "outputId": "de1e1bd6-01c6-492c-8008-75f2311c7c20"
      },
      "outputs": [],
      "source": [
        "#!pip install augmax\n",
        "# Install the newest JAXlib version.\n",
        "#!pip install --upgrade -q pip jax jaxlib\n",
        "# Install Flax at head:\n",
        "#!pip install --upgrade -q git+https://github.com/google/flax.git"
      ]
    },
    {
      "cell_type": "markdown",
      "metadata": {
        "id": "pxFk74rKYOev"
      },
      "source": [
        "## Permutation utils"
      ]
    },
    {
      "cell_type": "code",
      "execution_count": 3,
      "metadata": {
        "id": "Bqev0bBvBWOw"
      },
      "outputs": [],
      "source": [
        "from collections import defaultdict\n",
        "from typing import NamedTuple\n",
        "\n",
        "import jax.numpy as jnp\n",
        "from jax import random\n",
        "from scipy.optimize import linear_sum_assignment\n",
        "\n",
        "\n",
        "class PermutationSpec(NamedTuple):\n",
        "  perm_to_axes: dict\n",
        "  axes_to_perm: dict\n",
        "\n",
        "def permutation_spec_from_axes_to_perm(axes_to_perm: dict) -> PermutationSpec:\n",
        "  perm_to_axes = defaultdict(list)\n",
        "  for wk, axis_perms in axes_to_perm.items():\n",
        "    for axis, perm in enumerate(axis_perms):\n",
        "      if perm is not None:\n",
        "        perm_to_axes[perm].append((wk, axis))\n",
        "  return PermutationSpec(perm_to_axes=dict(perm_to_axes), axes_to_perm=axes_to_perm)\n",
        "\n",
        "def mlp_permutation_spec(num_hidden_layers: int) -> PermutationSpec:\n",
        "  \"\"\"We assume that one permutation cannot appear in two axes of the same weight array.\"\"\"\n",
        "  assert num_hidden_layers >= 1\n",
        "  return permutation_spec_from_axes_to_perm({\n",
        "      \"Dense_0/kernel\": (None, \"P_0\"),\n",
        "      **{f\"Dense_{i}/kernel\": (f\"P_{i-1}\", f\"P_{i}\")\n",
        "         for i in range(1, num_hidden_layers)},\n",
        "      **{f\"Dense_{i}/bias\": (f\"P_{i}\", )\n",
        "         for i in range(num_hidden_layers)},\n",
        "      f\"Dense_{num_hidden_layers}/kernel\": (f\"P_{num_hidden_layers-1}\", None),\n",
        "      f\"Dense_{num_hidden_layers}/bias\": (None, ),\n",
        "  })\n",
        "\n",
        "def get_permuted_param(ps: PermutationSpec, perm, k: str, params, except_axis=None):\n",
        "  \"\"\"Get parameter `k` from `params`, with the permutations applied.\"\"\"\n",
        "  w = params[k]\n",
        "  for axis, p in enumerate(ps.axes_to_perm[k]):\n",
        "    # Skip the axis we're trying to permute.\n",
        "    if axis == except_axis:\n",
        "      continue\n",
        "\n",
        "    # None indicates that there is no permutation relevant to that axis.\n",
        "    if p is not None:\n",
        "      w = jnp.take(w, perm[p], axis=axis)\n",
        "\n",
        "  return w\n",
        "\n",
        "def apply_permutation(ps: PermutationSpec, perm, params):\n",
        "  \"\"\"Apply a `perm` to `params`.\"\"\"\n",
        "  return {k: get_permuted_param(ps, perm, k, params) for k in params.keys()}\n",
        "\n",
        "def weight_matching(rng, ps: PermutationSpec, params_a, params_b, max_iter=100, init_perm=None):\n",
        "  \"\"\"Find a permutation of `params_b` to make them match `params_a`.\"\"\"\n",
        "  perm_sizes = {p: params_a[axes[0][0]].shape[axes[0][1]] for p, axes in ps.perm_to_axes.items()}\n",
        "\n",
        "  perm = {p: jnp.arange(n) for p, n in perm_sizes.items()} if init_perm is None else init_perm\n",
        "  perm_names = list(perm.keys())\n",
        "\n",
        "  for iteration in range(max_iter):\n",
        "    progress = False\n",
        "    for p_ix in random.permutation(rngmix(rng, iteration), len(perm_names)):\n",
        "      p = perm_names[p_ix]\n",
        "      n = perm_sizes[p]\n",
        "      A = jnp.zeros((n, n))\n",
        "      for wk, axis in ps.perm_to_axes[p]:\n",
        "        w_a = params_a[wk]\n",
        "        w_b = get_permuted_param(ps, perm, wk, params_b, except_axis=axis)\n",
        "        w_a = jnp.moveaxis(w_a, axis, 0).reshape((n, -1))\n",
        "        w_b = jnp.moveaxis(w_b, axis, 0).reshape((n, -1))\n",
        "        A += w_a @ w_b.T\n",
        "\n",
        "      ri, ci = linear_sum_assignment(A, maximize=True)\n",
        "      assert (ri == jnp.arange(len(ri))).all()\n",
        "\n",
        "      oldL = jnp.vdot(A, jnp.eye(n)[perm[p]])\n",
        "      newL = jnp.vdot(A, jnp.eye(n)[ci, :])\n",
        "      print(f\"{iteration}/{p}: {newL - oldL}\")\n",
        "      progress = progress or newL > oldL + 1e-12\n",
        "\n",
        "      perm[p] = jnp.array(ci)\n",
        "\n",
        "    if not progress:\n",
        "      break\n",
        "\n",
        "  return perm\n",
        "\n",
        "def test_weight_matching():\n",
        "  \"\"\"If we just have a single hidden layer then it should converge after just one step.\"\"\"\n",
        "  ps = mlp_permutation_spec(num_hidden_layers=1)\n",
        "  rng = random.PRNGKey(123)\n",
        "  num_hidden = 10\n",
        "  shapes = {\n",
        "      \"Dense_0/kernel\": (2, num_hidden),\n",
        "      \"Dense_0/bias\": (num_hidden, ),\n",
        "      \"Dense_1/kernel\": (num_hidden, 3),\n",
        "      \"Dense_1/bias\": (3, )\n",
        "  }\n",
        "  params_a = {k: random.normal(rngmix(rng, f\"a-{k}\"), shape) for k, shape in shapes.items()}\n",
        "  params_b = {k: random.normal(rngmix(rng, f\"b-{k}\"), shape) for k, shape in shapes.items()}\n",
        "  perm = weight_matching(rng, ps, params_a, params_b)\n",
        "  print(perm)\n",
        "\n"
      ]
    },
    {
      "cell_type": "markdown",
      "metadata": {
        "id": "MRRnQciSYXVu"
      },
      "source": [
        "## Utils"
      ]
    },
    {
      "cell_type": "code",
      "execution_count": 4,
      "metadata": {
        "id": "186MTf_d3Tvh"
      },
      "outputs": [],
      "source": [
        "import operator\n",
        "import re\n",
        "import time\n",
        "import matplotlib.pyplot as plt\n",
        "\n",
        "import jax.numpy as jnp\n",
        "from flax import traverse_util\n",
        "from flax.core import freeze, unfreeze\n",
        "from jax import random, tree_map\n",
        "from jax.tree_util import tree_reduce\n",
        "\n",
        "rngmix = lambda rng, x: random.fold_in(rng, hash(x))\n",
        "\n",
        "class RngPooper:\n",
        "  \"\"\"A stateful wrapper around stateless random.PRNGKey's.\"\"\"\n",
        "\n",
        "  def __init__(self, init_rng):\n",
        "    self.rng = init_rng\n",
        "\n",
        "  def poop(self):\n",
        "    self.rng, rng_key = random.split(self.rng)\n",
        "    return rng_key\n",
        "\n",
        "def l1prox(x, alpha):\n",
        "  return jnp.sign(x) * jnp.maximum(0, jnp.abs(x) - alpha)\n",
        "\n",
        "def flatten_params(params):\n",
        "  return {\"/\".join(k): v for k, v in traverse_util.flatten_dict(unfreeze(params)).items()}\n",
        "\n",
        "def unflatten_params(flat_params):\n",
        "  return freeze(\n",
        "      traverse_util.unflatten_dict({tuple(k.split(\"/\")): v\n",
        "                                    for k, v in flat_params.items()}))\n",
        "\n",
        "def merge_params(a, b):\n",
        "  return unflatten_params({**a, **b})\n",
        "\n",
        "def kmatch(pattern, key):\n",
        "  regex = \"^\"\n",
        "  i = 0\n",
        "  while i < len(pattern):\n",
        "    if pattern[i] == \"*\":\n",
        "      if i + 1 < len(pattern) and pattern[i + 1] == \"*\":\n",
        "        regex += \"(.*)\"\n",
        "        i += 2\n",
        "      else:\n",
        "        regex += \"([^\\/]*)\"\n",
        "        i += 1\n",
        "    else:\n",
        "      regex += pattern[i]\n",
        "      i += 1\n",
        "  regex += \"$\"\n",
        "  return re.fullmatch(regex, key)\n",
        "\n",
        "assert kmatch(\"*\", \"a\") is not None\n",
        "assert kmatch(\"*\", \"a\").group(0) == \"a\"\n",
        "assert kmatch(\"*\", \"a\").group(1) == \"a\"\n",
        "assert kmatch(\"abc\", \"def\") is None\n",
        "assert kmatch(\"abc/*/ghi\", \"abc/def/ghi\").group(1) == \"def\"\n",
        "assert kmatch(\"abc/**/jkl\", \"abc/def/ghi/jkl\").group(1) == \"def/ghi\"\n",
        "assert kmatch(\"abc/*/jkl\", \"abc/def/ghi/jkl\") is None\n",
        "assert kmatch(\"**/*\", \"abc/def/ghi/jkl\").group(1) == \"abc/def/ghi\"\n",
        "assert kmatch(\"**/*\", \"abc/def/ghi/jkl\").group(2) == \"jkl\"\n"
      ]
    },
    {
      "cell_type": "markdown",
      "metadata": {
        "id": "UspSJSjzYqdl"
      },
      "source": [
        "## MLP model and dataset"
      ]
    },
    {
      "cell_type": "code",
      "execution_count": 5,
      "metadata": {
        "id": "8py7J8FF2fTW"
      },
      "outputs": [],
      "source": [
        "\n",
        "\"\"\"Train an MLP on MNIST on one random seed. Serialize the model for\n",
        "interpolation downstream.\"\"\"\n",
        "import argparse\n",
        "\n",
        "import augmax\n",
        "import flax\n",
        "import jax\n",
        "import jax.numpy as jnp\n",
        "import numpy as np\n",
        "import optax\n",
        "import tensorflow as tf\n",
        "import tensorflow_datasets as tfds\n",
        "\n",
        "from flax import linen as nn\n",
        "from flax.training.train_state import TrainState\n",
        "from jax import jit, random, tree_map, value_and_grad, vmap\n",
        "from tqdm import tqdm\n",
        "\n",
        "# See https://github.com/tensorflow/tensorflow/issues/53831.\n",
        "\n",
        "# See https://github.com/google/jax/issues/9454.\n",
        "tf.config.set_visible_devices([], \"GPU\")\n",
        "\n",
        "activation = nn.relu\n",
        "\n",
        "class MLPModel(nn.Module):\n",
        "\n",
        "  @nn.compact\n",
        "  def __call__(self, x):\n",
        "    x = jnp.reshape(x, (-1, 28 * 28))\n",
        "    x = nn.Dense(512)(x)\n",
        "    x = activation(x)\n",
        "    x = nn.Dense(512)(x)\n",
        "    x = activation(x)\n",
        "    x = nn.Dense(512)(x)\n",
        "    x = activation(x)\n",
        "    x = nn.Dense(10)(x)\n",
        "    x = nn.log_softmax(x)\n",
        "    return x\n",
        "\n",
        "def make_stuff(model):\n",
        "  normalize_transform = augmax.ByteToFloat()\n",
        "\n",
        "  @jit\n",
        "  def batch_eval(params, images_u8, labels):\n",
        "    images_f32 = vmap(normalize_transform)(None, images_u8)\n",
        "    logits = model.apply({\"params\": params}, images_f32)\n",
        "    y_onehot = jax.nn.one_hot(labels, 10)\n",
        "    loss = jnp.mean(optax.softmax_cross_entropy(logits=logits, labels=y_onehot))\n",
        "    num_correct = jnp.sum(jnp.argmax(logits, axis=-1) == jnp.argmax(y_onehot, axis=-1))\n",
        "    return loss, {\"num_correct\": num_correct}\n",
        "\n",
        "  # Stan's addition for saving predictions of the model to see how they differ\n",
        "  @jit\n",
        "  def batch_predictions(params, images_u8, labels):\n",
        "    images_f32 = vmap(normalize_transform)(None, images_u8)\n",
        "    logits = model.apply({\"params\": params}, images_f32)\n",
        "    y_onehot = jax.nn.one_hot(labels, 10)\n",
        "    loss = jnp.mean(optax.softmax_cross_entropy(logits=logits, labels=y_onehot))\n",
        "    num_correct = jnp.sum(jnp.argmax(logits, axis=-1) == jnp.argmax(y_onehot, axis=-1))\n",
        "    return loss, logits, y_onehot, {\"num_correct\": num_correct}\n",
        "\n",
        "  @jit\n",
        "  def step(train_state, images_f32, labels):\n",
        "    (l, info), g = value_and_grad(batch_eval, has_aux=True)(train_state.params, images_f32, labels)\n",
        "    return train_state.apply_gradients(grads=g), {\"batch_loss\": l, **info}\n",
        "\n",
        "  def dataset_loss_and_accuracy(params, dataset, batch_size: int):\n",
        "    num_examples = dataset[\"images_u8\"].shape[0]\n",
        "    assert num_examples % batch_size == 0\n",
        "    num_batches = num_examples // batch_size\n",
        "    batch_ix = jnp.arange(num_examples).reshape((num_batches, batch_size))\n",
        "    # Can't use vmap or run in a single batch since that overloads GPU memory.\n",
        "    losses, infos = zip(*[\n",
        "        batch_eval(\n",
        "            params,\n",
        "            dataset[\"images_u8\"][batch_ix[i, :], :, :, :],\n",
        "            dataset[\"labels\"][batch_ix[i, :]],\n",
        "        ) for i in range(num_batches)\n",
        "    ])\n",
        "    return (\n",
        "        jnp.sum(batch_size * jnp.array(losses)) / num_examples,\n",
        "        sum(x[\"num_correct\"] for x in infos) / num_examples,\n",
        "    )\n",
        "\n",
        "  # Stan's addition for saving predictions of the model to see how they differ\n",
        "  def dataset_predictions(params, dataset, batch_size: int):\n",
        "    num_examples = dataset[\"images_u8\"].shape[0]\n",
        "    assert num_examples % batch_size == 0\n",
        "    num_batches = num_examples // batch_size\n",
        "    batch_ix = jnp.arange(num_examples).reshape((num_batches, batch_size))\n",
        "    # Can't use vmap or run in a single batch since that overloads GPU memory.\n",
        "    losses, logits, y_onehots, infos = zip(*[\n",
        "        batch_predictions(\n",
        "            params,\n",
        "            dataset[\"images_u8\"][batch_ix[i, :], :, :, :],\n",
        "            dataset[\"labels\"][batch_ix[i, :]],\n",
        "        ) for i in range(num_batches)\n",
        "    ])\n",
        "    return (\n",
        "        jnp.sum(batch_size * jnp.array(losses)) / num_examples,\n",
        "        sum(x[\"num_correct\"] for x in infos) / num_examples,\n",
        "        logits,\n",
        "        y_onehots,\n",
        "    )\n",
        "\n",
        "  return {\n",
        "      \"normalize_transform\": normalize_transform,\n",
        "      \"batch_eval\": batch_eval,\n",
        "      \"step\": step,\n",
        "      \"dataset_loss_and_accuracy\": dataset_loss_and_accuracy,\n",
        "      \"dataset_predictions\": dataset_predictions,\n",
        "  }\n",
        "\n",
        "def load_datasets():\n",
        "  \"\"\"Return the training and test datasets, unbatched.\"\"\"\n",
        "  # See https://www.tensorflow.org/datasets/overview#as_batched_tftensor_batch_size-1.\n",
        "  train_ds_images_u8, train_ds_labels = tfds.as_numpy(\n",
        "      tfds.load(\"mnist\", split=\"train\", batch_size=-1, as_supervised=True))\n",
        "  test_ds_images_u8, test_ds_labels = tfds.as_numpy(\n",
        "      tfds.load(\"mnist\", split=\"test\", batch_size=-1, as_supervised=True))\n",
        "  train_ds = {\"images_u8\": train_ds_images_u8, \"labels\": train_ds_labels}\n",
        "  test_ds = {\"images_u8\": test_ds_images_u8, \"labels\": test_ds_labels}\n",
        "  return train_ds, test_ds\n",
        "\n"
      ]
    },
    {
      "cell_type": "markdown",
      "metadata": {
        "id": "Y7xeM-sdZAp6"
      },
      "source": [
        "## Runs details"
      ]
    },
    {
      "cell_type": "code",
      "execution_count": 6,
      "metadata": {
        "id": "2Uc_f5roM8j1"
      },
      "outputs": [],
      "source": [
        "num_epochs = 100\n",
        "batch_size = 500\n",
        "seed = 12421\n",
        "config_optimizer = \"sgd\" # sgd does not work\n",
        "learning_rate = 1e-3\n",
        "\n",
        "runs_to_collect = 2\n",
        "\n",
        "rng = random.PRNGKey(seed)"
      ]
    },
    {
      "cell_type": "code",
      "execution_count": 7,
      "metadata": {
        "colab": {
          "base_uri": "https://localhost:8080/"
        },
        "id": "zBizSu-K2pjv",
        "outputId": "25fae259-fa7b-46a5-b55b-64141b49bda1"
      },
      "outputs": [
        {
          "name": "stdout",
          "output_type": "stream",
          "text": [
            "--------------------------\n",
            "Starting run 0\n"
          ]
        },
        {
          "name": "stderr",
          "output_type": "stream",
          "text": [
            "2022-12-14 09:29:41.121858: W tensorflow/core/platform/profile_utils/cpu_utils.cc:128] Failed to get CPU frequency: 0 Hz\n"
          ]
        },
        {
          "name": "stdout",
          "output_type": "stream",
          "text": [
            "train_ds labels hash -2083114932408509281\n",
            "test_ds labels hash 933651475060242277\n",
            "num_train_examples 60000\n",
            "num_test_examples 10000\n"
          ]
        },
        {
          "name": "stderr",
          "output_type": "stream",
          "text": [
            "100%|██████████| 100/100 [02:32<00:00,  1.53s/it]\n"
          ]
        },
        {
          "name": "stdout",
          "output_type": "stream",
          "text": [
            "-----------------\n",
            "RUN 0 FINISHED!\n",
            "Run=0 test loss=0.16564010083675385 test accuracy=0.9514999985694885 train loss=0.16039948165416718 train accuracy=0.954633355140686\n",
            "--------------------------\n",
            "Starting run 1\n",
            "train_ds labels hash -2083114932408509281\n",
            "test_ds labels hash 933651475060242277\n",
            "num_train_examples 60000\n",
            "num_test_examples 10000\n"
          ]
        },
        {
          "name": "stderr",
          "output_type": "stream",
          "text": [
            "100%|██████████| 100/100 [02:35<00:00,  1.56s/it]\n"
          ]
        },
        {
          "name": "stdout",
          "output_type": "stream",
          "text": [
            "-----------------\n",
            "RUN 1 FINISHED!\n",
            "Run=1 test loss=0.16809609532356262 test accuracy=0.9498000144958496 train loss=0.16236530244350433 train accuracy=0.9538333415985107\n"
          ]
        }
      ],
      "source": [
        "# storing model params after training\n",
        "flattened_models_list = []\n",
        "\n",
        "for run_i in range(runs_to_collect):\n",
        "\n",
        "  rng = random.PRNGKey(seed+run_i) # chaning the seed each run \n",
        "  rngmix = lambda rng, x: random.fold_in(rng, hash(x))\n",
        "\n",
        "  model = MLPModel()\n",
        "  stuff = make_stuff(model)\n",
        "\n",
        "  print(\"--------------------------\")\n",
        "  print(f\"Starting run {run_i}\")\n",
        "\n",
        "\n",
        "  train_ds, test_ds = load_datasets()\n",
        "  print(\"train_ds labels hash\", hash(np.array(train_ds[\"labels\"]).tobytes()))\n",
        "  print(\"test_ds labels hash\", hash(np.array(test_ds[\"labels\"]).tobytes()))\n",
        "\n",
        "  num_train_examples = train_ds[\"images_u8\"].shape[0]\n",
        "  num_test_examples = test_ds[\"images_u8\"].shape[0]\n",
        "  assert num_train_examples % batch_size == 0\n",
        "  print(\"num_train_examples\", num_train_examples)\n",
        "  print(\"num_test_examples\", num_test_examples)\n",
        "\n",
        "  if config_optimizer == \"sgd\":\n",
        "    lr_schedule = optax.warmup_cosine_decay_schedule(\n",
        "        init_value=1e-6,\n",
        "        peak_value=learning_rate,\n",
        "        warmup_steps=10,\n",
        "        # Confusingly, `decay_steps` is actually the total number of steps,\n",
        "        # including the warmup.\n",
        "        decay_steps=num_epochs * (num_train_examples // batch_size),\n",
        "    )\n",
        "    tx = optax.sgd(lr_schedule, momentum=0.9)\n",
        "  elif config_optimizer == \"adam\":\n",
        "    tx = optax.adam(learning_rate)\n",
        "\n",
        "  train_state = TrainState.create(\n",
        "      apply_fn=model.apply,\n",
        "      params=model.init(rngmix(rng, f\"init{run_i}\"), jnp.zeros((1, 28, 28, 1)))[\"params\"],\n",
        "      tx=tx,\n",
        "  )\n",
        "\n",
        "  for epoch in tqdm(range(num_epochs)):\n",
        "    infos = []\n",
        "  \n",
        "    batch_ix = random.permutation(rngmix(rng, f\"epoch-{epoch}\"), num_train_examples).reshape(\n",
        "        (-1, batch_size))\n",
        "    for i in range(batch_ix.shape[0]):\n",
        "      p = batch_ix[i, :]\n",
        "      images_u8 = train_ds[\"images_u8\"][p, :, :, :]\n",
        "      labels = train_ds[\"labels\"][p]\n",
        "      train_state, info = stuff[\"step\"](train_state, images_u8, labels)\n",
        "    \n",
        "\n",
        "    train_loss = sum(batch_size * x[\"batch_loss\"] for x in infos) / num_train_examples\n",
        "    train_accuracy = sum(x[\"num_correct\"] for x in infos) / num_train_examples\n",
        "\n",
        "    \n",
        "    actest_loss, test_accuracy = stuff[\"dataset_loss_and_accuracy\"](train_state.params, test_ds,\n",
        "                                                                    10_000)\n",
        "\n",
        "    params_l2 = tree_map(lambda x: jnp.sqrt(jnp.sum(x**2)),\n",
        "                          flatten_params({\"params_l2\": train_state.params}))\n",
        "    \n",
        "    \n",
        "  # summary\n",
        "  print(\"-----------------\")\n",
        "  print(f\"RUN {run_i} FINISHED!\")\n",
        "  test_loss, test_accuracy = stuff[\"dataset_loss_and_accuracy\"](train_state.params, test_ds,\n",
        "                                                                10_000)\n",
        "  train_loss, train_accuracy = stuff[\"dataset_loss_and_accuracy\"](train_state.params, train_ds,\n",
        "                                                                60_000)\n",
        "  print(f\"Run={run_i} test loss={test_loss} test accuracy={test_accuracy} train loss={train_loss} train accuracy={train_accuracy}\")\n",
        "\n",
        "  flattened_models_list.append(flatten_params(train_state.params))\n"
      ]
    },
    {
      "cell_type": "code",
      "execution_count": 8,
      "metadata": {
        "id": "vYDeIaVAbDQp"
      },
      "outputs": [],
      "source": [
        "# flattening params\n",
        "assert len(flattened_models_list) >= 2\n",
        "flattened_model1 = flattened_models_list[0]\n",
        "flattened_model2 = flattened_models_list[1]"
      ]
    },
    {
      "cell_type": "markdown",
      "metadata": {
        "id": "kynTrJ-VbNOY"
      },
      "source": [
        "## Permuting the model"
      ]
    },
    {
      "cell_type": "code",
      "execution_count": 9,
      "metadata": {
        "colab": {
          "base_uri": "https://localhost:8080/"
        },
        "id": "IkP-ryVUBDbC",
        "outputId": "363659bb-9ba2-4338-c206-dd7d8358e8bf"
      },
      "outputs": [
        {
          "name": "stdout",
          "output_type": "stream",
          "text": [
            "0/P_0: 86.61100006103516\n",
            "0/P_1: 45.83926773071289\n",
            "0/P_2: 27.56157684326172\n",
            "1/P_0: 10.167549133300781\n",
            "1/P_2: 0.0\n",
            "1/P_1: 1.0706558227539062\n",
            "2/P_2: 2.4769134521484375\n",
            "2/P_0: 1.8096237182617188\n",
            "2/P_1: 0.17486572265625\n",
            "3/P_0: 0.5741500854492188\n",
            "3/P_1: 0.0022430419921875\n",
            "3/P_2: 0.9475860595703125\n",
            "4/P_0: 0.23919677734375\n",
            "4/P_1: 0.0788726806640625\n",
            "4/P_2: 0.8958206176757812\n",
            "5/P_1: 0.054779052734375\n",
            "5/P_2: 0.3226165771484375\n",
            "5/P_0: 0.5840225219726562\n",
            "6/P_1: 0.0522308349609375\n",
            "6/P_2: 0.15251922607421875\n",
            "6/P_0: 0.1121978759765625\n",
            "7/P_2: 0.0\n",
            "7/P_1: 0.094635009765625\n",
            "7/P_0: 0.2553863525390625\n",
            "8/P_1: 0.0096435546875\n",
            "8/P_0: 0.09647369384765625\n",
            "8/P_2: 0.4929351806640625\n",
            "9/P_0: 0.0\n",
            "9/P_1: 0.0160980224609375\n",
            "9/P_2: 0.17646026611328125\n",
            "10/P_2: 0.0\n",
            "10/P_0: 0.09656524658203125\n",
            "10/P_1: 0.101898193359375\n",
            "11/P_0: 0.1204376220703125\n",
            "11/P_2: 0.5377883911132812\n",
            "11/P_1: 0.0735321044921875\n",
            "12/P_0: 0.238128662109375\n",
            "12/P_1: 0.036041259765625\n",
            "12/P_2: 0.43264007568359375\n",
            "13/P_2: 0.0\n",
            "13/P_1: 0.061859130859375\n",
            "13/P_0: 0.16284942626953125\n",
            "14/P_0: 0.0\n",
            "14/P_2: 0.26732635498046875\n",
            "14/P_1: 0.07965087890625\n",
            "15/P_1: 0.0\n",
            "15/P_0: 0.17258453369140625\n",
            "15/P_2: 0.30403900146484375\n",
            "16/P_1: 0.00042724609375\n",
            "16/P_2: 0.06777191162109375\n",
            "16/P_0: 0.03421783447265625\n",
            "17/P_0: 0.0\n",
            "17/P_2: 0.0\n",
            "17/P_1: 0.0225677490234375\n",
            "18/P_0: 0.02925872802734375\n",
            "18/P_1: 0.0\n",
            "18/P_2: 0.07163238525390625\n",
            "19/P_0: 0.0\n",
            "19/P_1: 0.0\n",
            "19/P_2: 0.0\n"
          ]
        }
      ],
      "source": [
        "permutation_spec = mlp_permutation_spec(3)\n",
        "final_permutation = weight_matching(random.PRNGKey(seed), permutation_spec,\n",
        "                                    flattened_model1, flattened_model2)"
      ]
    },
    {
      "cell_type": "code",
      "execution_count": 10,
      "metadata": {
        "id": "_jMuWKFBBGy1"
      },
      "outputs": [],
      "source": [
        "# applying the permutation to the second model\n",
        "flattened_model1_permuted = unflatten_params(\n",
        "        apply_permutation(permutation_spec, final_permutation, flattened_model1)\n",
        "        )\n",
        "flattened_model2_permuted = unflatten_params(\n",
        "        apply_permutation(permutation_spec, final_permutation, flattened_model2)\n",
        "        )"
      ]
    },
    {
      "cell_type": "markdown",
      "metadata": {
        "id": "OJCgHKhCbnlO"
      },
      "source": [
        "## Performance verification"
      ]
    },
    {
      "cell_type": "markdown",
      "metadata": {
        "id": "4ayKKHGlbrMN"
      },
      "source": [
        "### Model 1"
      ]
    },
    {
      "cell_type": "code",
      "execution_count": 11,
      "metadata": {
        "colab": {
          "base_uri": "https://localhost:8080/"
        },
        "id": "1LWHcfq5DVnC",
        "outputId": "f9309cd0-f4e6-4198-cad5-4c0b18ad70e8"
      },
      "outputs": [
        {
          "name": "stdout",
          "output_type": "stream",
          "text": [
            "Model 1\n",
            "train_loss=0.16039948165416718 train_accuracy=0.954633355140686\n",
            "test_loss=0.16564010083675385 test_accuracy=0.9514999985694885\n"
          ]
        }
      ],
      "source": [
        "test_loss, test_accuracy = stuff[\"dataset_loss_and_accuracy\"](unflatten_params(flattened_model1), test_ds,\n",
        "                                                                  10_000)\n",
        "train_loss, train_accuracy = stuff[\"dataset_loss_and_accuracy\"](unflatten_params(flattened_model1), train_ds,\n",
        "                                                                  60_000)\n",
        "print(\"Model 1\")\n",
        "print(f\"train_loss={train_loss} train_accuracy={train_accuracy}\")\n",
        "print(f\"test_loss={test_loss} test_accuracy={test_accuracy}\")"
      ]
    },
    {
      "cell_type": "markdown",
      "metadata": {
        "id": "eRaQ3-Zdb-k1"
      },
      "source": [
        "### Model 2"
      ]
    },
    {
      "cell_type": "code",
      "execution_count": 12,
      "metadata": {
        "colab": {
          "base_uri": "https://localhost:8080/"
        },
        "id": "hvHBV5MhBt7z",
        "outputId": "be3fe63f-6b03-4d37-ad82-da218c05af68"
      },
      "outputs": [
        {
          "name": "stdout",
          "output_type": "stream",
          "text": [
            "Model 2\n",
            "train_loss=0.16236530244350433 train_accuracy=0.9538333415985107\n",
            "test_loss=0.16809609532356262 test_accuracy=0.9498000144958496\n"
          ]
        }
      ],
      "source": [
        "test_loss, test_accuracy = stuff[\"dataset_loss_and_accuracy\"](unflatten_params(flattened_model2), test_ds,\n",
        "                                                                  10_000)\n",
        "train_loss, train_accuracy = stuff[\"dataset_loss_and_accuracy\"](unflatten_params(flattened_model2), train_ds,\n",
        "                                                                  60_000)\n",
        "print(\"Model 2\")\n",
        "print(f\"train_loss={train_loss} train_accuracy={train_accuracy}\")\n",
        "print(f\"test_loss={test_loss} test_accuracy={test_accuracy}\")"
      ]
    },
    {
      "cell_type": "markdown",
      "metadata": {
        "id": "xigRsStYeAsN"
      },
      "source": [
        "### Model 1 with permutation"
      ]
    },
    {
      "cell_type": "code",
      "execution_count": 13,
      "metadata": {
        "colab": {
          "base_uri": "https://localhost:8080/"
        },
        "id": "EB2laCOweDvX",
        "outputId": "50cd33f3-49e4-4069-c88b-dbc24a123f14"
      },
      "outputs": [
        {
          "name": "stdout",
          "output_type": "stream",
          "text": [
            "Model 1 with permutation\n",
            "train_loss=0.16039951145648956 train_accuracy=0.954633355140686\n",
            "test_loss=0.16564010083675385 test_accuracy=0.9514999985694885\n"
          ]
        }
      ],
      "source": [
        "test_loss, test_accuracy = stuff[\"dataset_loss_and_accuracy\"](unflatten_params(flattened_model1_permuted), test_ds,\n",
        "                                                                  10_000)\n",
        "train_loss, train_accuracy = stuff[\"dataset_loss_and_accuracy\"](unflatten_params(flattened_model1_permuted), train_ds,\n",
        "                                                                  60_000)\n",
        "print(\"Model 1 with permutation\")\n",
        "print(f\"train_loss={train_loss} train_accuracy={train_accuracy}\")\n",
        "print(f\"test_loss={test_loss} test_accuracy={test_accuracy}\")"
      ]
    },
    {
      "cell_type": "markdown",
      "metadata": {
        "id": "RRcbDw4ocCsw"
      },
      "source": [
        "### Model 2 with permutation"
      ]
    },
    {
      "cell_type": "code",
      "execution_count": 14,
      "metadata": {
        "colab": {
          "base_uri": "https://localhost:8080/"
        },
        "id": "O7Qny9mvDW_D",
        "outputId": "0bfd1777-5a98-4e49-b9f5-7dd9336ac875"
      },
      "outputs": [
        {
          "name": "stdout",
          "output_type": "stream",
          "text": [
            "Model 2 with permutation\n",
            "train_loss=0.16236528754234314 train_accuracy=0.9538333415985107\n",
            "test_loss=0.16809609532356262 test_accuracy=0.9498000144958496\n"
          ]
        }
      ],
      "source": [
        "test_loss, test_accuracy = stuff[\"dataset_loss_and_accuracy\"](unflatten_params(flattened_model2_permuted), test_ds,\n",
        "                                                                  10_000)\n",
        "train_loss, train_accuracy = stuff[\"dataset_loss_and_accuracy\"](unflatten_params(flattened_model2_permuted), train_ds,\n",
        "                                                                  60_000)\n",
        "print(\"Model 2 with permutation\")\n",
        "print(f\"train_loss={train_loss} train_accuracy={train_accuracy}\")\n",
        "print(f\"test_loss={test_loss} test_accuracy={test_accuracy}\")"
      ]
    },
    {
      "cell_type": "markdown",
      "metadata": {
        "id": "DEnczZuEeKbv"
      },
      "source": [
        "## Weight vector analysis"
      ]
    },
    {
      "cell_type": "code",
      "execution_count": 15,
      "metadata": {
        "id": "VMbbA5UPEXfk"
      },
      "outputs": [],
      "source": [
        "flattened_model1_permuted_flat = flatten_params(flattened_model1_permuted)\n",
        "flattened_model2_permuted_flat = flatten_params(flattened_model2_permuted)"
      ]
    },
    {
      "cell_type": "code",
      "execution_count": 16,
      "metadata": {
        "id": "KWnv1-pfCM-w"
      },
      "outputs": [],
      "source": [
        "# all in long vectors\n",
        "keys = flattened_model1.keys()\n",
        "\n",
        "v1 = jnp.concatenate([flattened_model1[key].reshape([-1]) for key in keys],axis=0)\n",
        "v2 = jnp.concatenate([flattened_model2[key].reshape([-1]) for key in keys],axis=0)\n",
        "v1_perm = jnp.concatenate([flattened_model1_permuted_flat[key].reshape([-1]) for key in keys],axis=0)\n",
        "v2_perm = jnp.concatenate([flattened_model2_permuted_flat[key].reshape([-1]) for key in keys],axis=0)"
      ]
    },
    {
      "cell_type": "code",
      "execution_count": 17,
      "metadata": {
        "colab": {
          "base_uri": "https://localhost:8080/"
        },
        "id": "p9dd2lPbEMRA",
        "outputId": "8975acda-e448-4632-c93e-d546817712a2"
      },
      "outputs": [
        {
          "name": "stdout",
          "output_type": "stream",
          "text": [
            "model 1 length**2=1602.0555419921875\n",
            "model 2 length**2=1600.791748046875\n",
            "model 1 + perms length**2=1602.0557861328125\n",
            "model 2 + perms length**2=1600.7918701171875\n"
          ]
        }
      ],
      "source": [
        "vectors_to_show = [\n",
        "    (\"model 1\", v1),\n",
        "    (\"model 2\", v2),\n",
        "    (\"model 1 + perms\", v1_perm),\n",
        "    (\"model 2 + perms\", v2_perm), \n",
        "]\n",
        "\n",
        "for vector_str, vector in vectors_to_show:\n",
        "  print(f\"{vector_str} length**2={(jnp.sum(vector**2))}\")\n",
        "\n",
        "# the permutation should preserve the length"
      ]
    },
    {
      "cell_type": "code",
      "execution_count": 18,
      "metadata": {
        "colab": {
          "base_uri": "https://localhost:8080/"
        },
        "id": "P4m3dP6-EkbX",
        "outputId": "ba7281ae-ff1a-4825-b9a1-7c756c76a945"
      },
      "outputs": [
        {
          "name": "stdout",
          "output_type": "stream",
          "text": [
            "cos(model 1,model 1)=1.0000001192092896\n",
            "cos(model 1,model 2)=-0.00025914644356817007\n",
            "cos(model 1,model 1 + perms)=0.003698732703924179\n",
            "cos(model 1,model 2 + perms)=0.11450167745351791\n",
            "cos(model 2,model 1)=-0.00025914644356817007\n",
            "cos(model 2,model 2)=1.0\n",
            "cos(model 2,model 1 + perms)=0.0009715243941172957\n",
            "cos(model 2,model 2 + perms)=0.0046501136384904385\n",
            "cos(model 1 + perms,model 1)=0.0036987324710935354\n",
            "cos(model 1 + perms,model 2)=0.0009715243359096348\n",
            "cos(model 1 + perms,model 1 + perms)=1.0\n",
            "cos(model 1 + perms,model 2 + perms)=-0.0002591460943222046\n",
            "cos(model 2 + perms,model 1)=0.11450167000293732\n",
            "cos(model 2 + perms,model 2)=0.0046501136384904385\n",
            "cos(model 2 + perms,model 1 + perms)=-0.00025914612342603505\n",
            "cos(model 2 + perms,model 2 + perms)=1.0000001192092896\n"
          ]
        }
      ],
      "source": [
        "coses_grid = np.zeros((len(vectors_to_show),len(vectors_to_show)))\n",
        "for i,(vector_str1, vector1) in enumerate(vectors_to_show):\n",
        "  for j,(vector_str2, vector2) in enumerate(vectors_to_show):\n",
        "    cos_now = jnp.sum(vector1*vector2)/jnp.sqrt(jnp.sum(vector1**2))/jnp.sqrt(jnp.sum(vector2**2))\n",
        "    print(f\"cos({vector_str1},{vector_str2})={cos_now}\")\n",
        "    coses_grid[i,j] = cos_now"
      ]
    },
    {
      "cell_type": "markdown",
      "metadata": {
        "id": "rQnvPmWlhbgy"
      },
      "source": [
        "## Linear interpolations of weights = test for linear mode connectivity"
      ]
    },
    {
      "cell_type": "code",
      "execution_count": 19,
      "metadata": {
        "id": "O4WSdg2uEvEO"
      },
      "outputs": [],
      "source": [
        "def get_linear_combination(factor1,vector1,factor2,vector2):\n",
        "  return dict(\n",
        "      [(key,factor1*vector1[key]+factor2*vector2[key]) for key in vector1.keys()]\n",
        "  )"
      ]
    },
    {
      "cell_type": "markdown",
      "metadata": {
        "id": "AhKPabjyyLcN"
      },
      "source": [
        "### Model 1 -> Model 2"
      ]
    },
    {
      "cell_type": "code",
      "execution_count": 20,
      "metadata": {
        "colab": {
          "base_uri": "https://localhost:8080/",
          "height": 573
        },
        "id": "OrlGik4SFbQZ",
        "outputId": "ea08dc73-85aa-4f2f-8cec-d4721a130b23"
      },
      "outputs": [
        {
          "name": "stdout",
          "output_type": "stream",
          "text": [
            "0 0.0 0.1656401\n",
            "1 0.07142857142857142 0.19852611\n",
            "2 0.14285714285714285 0.299755\n",
            "3 0.21428571428571427 0.5209338\n",
            "4 0.2857142857142857 0.8814376\n",
            "5 0.3571428571428571 1.2953143\n",
            "6 0.42857142857142855 1.6152084\n",
            "7 0.5 1.7277489\n",
            "8 0.5714285714285714 1.6017652\n",
            "9 0.6428571428571428 1.2807621\n",
            "10 0.7142857142857142 0.8735411\n",
            "11 0.7857142857142857 0.5197818\n",
            "12 0.8571428571428571 0.30115357\n",
            "13 0.9285714285714285 0.20060246\n",
            "14 1.0 0.1680961\n"
          ]
        },
        {
          "data": {
            "image/png": "[encoded data removed]",
            "text/plain": [
              "<Figure size 450x375 with 1 Axes>"
            ]
          },
          "metadata": {},
          "output_type": "display_data"
        }
      ],
      "source": [
        "ts = np.linspace(0.0,1.0,15)\n",
        "\n",
        "start_vector = flattened_model1\n",
        "stop_vector = flattened_model2\n",
        "name = \"Model 1 -> Model 2\"\n",
        "\n",
        "test_losses_list = []\n",
        "test_accs_list = []\n",
        "train_losses_list = []\n",
        "train_accs_list = []\n",
        "\n",
        "for i,t in enumerate(ts):\n",
        "  new_params = get_linear_combination(\n",
        "      (1.0-t), start_vector, t, stop_vector\n",
        "  )\n",
        "  test_loss, test_accuracy = stuff[\"dataset_loss_and_accuracy\"](unflatten_params(new_params), test_ds,\n",
        "                                                                  10_000)\n",
        "  test_losses_list.append(test_loss)\n",
        "  test_accs_list.append(test_accuracy)\n",
        "\n",
        "  train_loss, train_accuracy = stuff[\"dataset_loss_and_accuracy\"](unflatten_params(new_params), train_ds,\n",
        "                                                                  60_000)\n",
        "  train_losses_list.append(train_loss)\n",
        "  train_accs_list.append(train_accuracy)\n",
        "\n",
        "  print(i,t,test_loss)\n",
        "\n",
        "plt.figure(figsize=(6,5),dpi=75)\n",
        "plt.gca().patch.set_facecolor('white')\n",
        "plt.title(f\"Linear weight interpolation\\n{name}\",fontsize=16)\n",
        "plt.plot(ts,train_losses_list,label=\"train\",marker=\"o\",color=\"crimson\",linewidth=2)\n",
        "plt.plot(ts,test_losses_list,label=\"test\",marker=\"o\",color=\"navy\",linewidth=2)\n",
        "plt.xlabel(\"Interpolation coeff\",fontsize=16)\n",
        "plt.ylabel(\"Loss\",fontsize=16)\n",
        "plt.xticks(fontsize=16)\n",
        "plt.yticks(fontsize=16)\n",
        "plt.legend(fontsize=16)\n",
        "plt.show()"
      ]
    },
    {
      "cell_type": "markdown",
      "metadata": {
        "id": "n3BA6E5PzkeK"
      },
      "source": [
        "### Model 1 -> Model 2 + permutations"
      ]
    },
    {
      "cell_type": "code",
      "execution_count": 21,
      "metadata": {
        "colab": {
          "base_uri": "https://localhost:8080/",
          "height": 573
        },
        "id": "fHqdEwS2zkeK",
        "outputId": "61701289-a23b-49ee-e29f-809ac51bc29f"
      },
      "outputs": [
        {
          "name": "stdout",
          "output_type": "stream",
          "text": [
            "0 0.0 0.1656401\n",
            "1 0.07142857142857142 0.18843591\n",
            "2 0.14285714285714285 0.24920441\n",
            "3 0.21428571428571427 0.3738807\n",
            "4 0.2857142857142857 0.58438325\n",
            "5 0.3571428571428571 0.8620301\n",
            "6 0.42857142857142855 1.1242603\n",
            "7 0.5 1.2605635\n",
            "8 0.5714285714285714 1.208948\n",
            "9 0.6428571428571428 0.9870623\n",
            "10 0.7142857142857142 0.68843395\n",
            "11 0.7857142857142857 0.42982814\n",
            "12 0.8571428571428571 0.2697399\n",
            "13 0.9285714285714285 0.19373822\n",
            "14 1.0 0.1680961\n"
          ]
        },
        {
          "data": {
            "image/png": "[encoded data removed]",
            "text/plain": [
              "<Figure size 450x375 with 1 Axes>"
            ]
          },
          "metadata": {},
          "output_type": "display_data"
        }
      ],
      "source": [
        "ts = np.linspace(0.0,1.0,15)\n",
        "\n",
        "start_vector = flattened_model1\n",
        "stop_vector = flattened_model2_permuted_flat\n",
        "name = \"Model 1 -> (Model 2 + permutations)\"\n",
        "\n",
        "test_losses_list = []\n",
        "test_accs_list = []\n",
        "train_losses_list = []\n",
        "train_accs_list = []\n",
        "\n",
        "for i,t in enumerate(ts):\n",
        "  new_params = get_linear_combination(\n",
        "      (1.0-t), start_vector, t, stop_vector\n",
        "  )\n",
        "  test_loss, test_accuracy = stuff[\"dataset_loss_and_accuracy\"](unflatten_params(new_params), test_ds,\n",
        "                                                                  10_000)\n",
        "  test_losses_list.append(test_loss)\n",
        "  test_accs_list.append(test_accuracy)\n",
        "\n",
        "  train_loss, train_accuracy = stuff[\"dataset_loss_and_accuracy\"](unflatten_params(new_params), train_ds,\n",
        "                                                                  60_000)\n",
        "  train_losses_list.append(train_loss)\n",
        "  train_accs_list.append(train_accuracy)\n",
        "\n",
        "  print(i,t,test_loss)\n",
        "\n",
        "fig = plt.figure(figsize=(6,5),dpi=75)\n",
        "fig.patch.set_facecolor('white')\n",
        "plt.title(f\"Linear weight interpolation\\n{name}\",fontsize=16)\n",
        "plt.plot(ts,train_losses_list,label=\"train\",marker=\"o\",color=\"crimson\",linewidth=2)\n",
        "plt.plot(ts,test_losses_list,label=\"test\",marker=\"o\",color=\"navy\",linewidth=2)\n",
        "plt.xlabel(\"Interpolation coeff\",fontsize=16)\n",
        "plt.ylabel(\"Loss\",fontsize=16)\n",
        "plt.xticks(fontsize=16)\n",
        "plt.yticks(fontsize=16)\n",
        "plt.legend(fontsize=16)\n",
        "plt.show()"
      ]
    },
    {
      "cell_type": "markdown",
      "metadata": {
        "id": "9O0zfLfg0GHt"
      },
      "source": [
        "## Predictions"
      ]
    },
    {
      "cell_type": "code",
      "execution_count": 22,
      "metadata": {
        "id": "DBQgrut1LWt8"
      },
      "outputs": [],
      "source": [
        "def compare_predictions(\n",
        "    model1,\n",
        "    model2,\n",
        "):\n",
        "\n",
        "  _, _, logits1, _ = stuff[\"dataset_predictions\"](model1, test_ds,\n",
        "                                                                    10_000)\n",
        "  _, _, logits2, _ = stuff[\"dataset_predictions\"](model2, test_ds,\n",
        "                                                                    10_000)\n",
        "  \n",
        "  return jnp.sum(jnp.argmax(logits1[0],axis=-1) != jnp.argmax(logits2[0],axis=-1))\n",
        "  \n"
      ]
    },
    {
      "cell_type": "code",
      "execution_count": 23,
      "metadata": {
        "colab": {
          "base_uri": "https://localhost:8080/"
        },
        "id": "SJ4mrJFwNlY4",
        "outputId": "2407a9c8-099d-4ea2-c9fe-904f726574a0"
      },
      "outputs": [
        {
          "name": "stdout",
          "output_type": "stream",
          "text": [
            "Disagreemnt model 1 vs model 1=0\n",
            "Disagreemnt model 1 vs model 2=165\n",
            "Disagreemnt model 1 vs model 1 + perms=0\n",
            "Disagreemnt model 1 vs model 2 + perms=165\n",
            "Disagreemnt model 2 vs model 1=165\n",
            "Disagreemnt model 2 vs model 2=0\n",
            "Disagreemnt model 2 vs model 1 + perms=165\n",
            "Disagreemnt model 2 vs model 2 + perms=0\n",
            "Disagreemnt model 1 + perms vs model 1=0\n",
            "Disagreemnt model 1 + perms vs model 2=165\n",
            "Disagreemnt model 1 + perms vs model 1 + perms=0\n",
            "Disagreemnt model 1 + perms vs model 2 + perms=165\n",
            "Disagreemnt model 2 + perms vs model 1=165\n",
            "Disagreemnt model 2 + perms vs model 2=0\n",
            "Disagreemnt model 2 + perms vs model 1 + perms=165\n",
            "Disagreemnt model 2 + perms vs model 2 + perms=0\n"
          ]
        }
      ],
      "source": [
        "models_to_show = [\n",
        "    (\"model 1\", flattened_model1),\n",
        "    (\"model 2\", flattened_model2),\n",
        "    (\"model 1 + perms\", flattened_model1_permuted_flat),\n",
        "    (\"model 2 + perms\", flattened_model2_permuted_flat), \n",
        "]\n",
        "\n",
        "disagreement_grid = np.zeros((len(models_to_show),len(models_to_show)))\n",
        "for i,(vector_str1, vector1) in enumerate(models_to_show):\n",
        "  for j,(vector_str2, vector2) in enumerate(models_to_show):\n",
        "    disagreement_now = compare_predictions(\n",
        "        unflatten_params(vector1),\n",
        "        unflatten_params(vector2)\n",
        "        )\n",
        "    print(f\"Disagreemnt {vector_str1} vs {vector_str2}={disagreement_now}\")\n",
        "    disagreement_grid[i,j] = disagreement_now"
      ]
    },
    {
      "cell_type": "markdown",
      "metadata": {
        "id": "dL5jUqFX09Ws"
      },
      "source": [
        "## Loss landscape cuts"
      ]
    },
    {
      "cell_type": "code",
      "execution_count": 24,
      "metadata": {
        "id": "0ZLoWis0YFVN"
      },
      "outputs": [],
      "source": [
        "# reconstructing parameter dictionaries from flat vectors\n",
        "def reconstruct(vector, example_flat_model, keys):\n",
        "  i = 0\n",
        "  output = dict()\n",
        "  for key in keys:\n",
        "    shape_now = example_flat_model[key].shape\n",
        "    size_now = np.prod(shape_now)\n",
        "    data_now = vector[i:i+size_now].reshape(shape_now)\n",
        "    output[key] = data_now\n",
        "    i = i + size_now\n",
        "  return output\n",
        "\n"
      ]
    },
    {
      "cell_type": "code",
      "execution_count": 25,
      "metadata": {
        "colab": {
          "base_uri": "https://localhost:8080/"
        },
        "id": "UHcrTpX_YfWC",
        "outputId": "1b02ceda-8b0e-4767-8c30-3feb9b876dec"
      },
      "outputs": [
        {
          "name": "stdout",
          "output_type": "stream",
          "text": [
            "0.0\n",
            "0.0\n",
            "0.0\n",
            "0.0\n",
            "0.0\n",
            "0.0\n",
            "0.0\n",
            "0.0\n"
          ]
        }
      ],
      "source": [
        "# testing it, should get all 0.0\n",
        "rec = reconstruct(v1, flattened_model1, flattened_model1.keys())\n",
        "for key in rec.keys():\n",
        "  print(jnp.max(jnp.abs(flattened_model1[key] - rec[key])))\n",
        "  assert jnp.max(jnp.abs(flattened_model1[key] - rec[key])) == 0.0"
      ]
    },
    {
      "cell_type": "markdown",
      "metadata": {
        "id": "JDEctgeR1KBT"
      },
      "source": [
        "### Cut model1 - model2 - (model2+perm)"
      ]
    },
    {
      "cell_type": "code",
      "execution_count": 26,
      "metadata": {
        "colab": {
          "base_uri": "https://localhost:8080/"
        },
        "id": "nG_tQWNxPbHS",
        "outputId": "a8fd78d2-2fc2-4b86-a43b-67d6d7c0d814"
      },
      "outputs": [
        {
          "name": "stdout",
          "output_type": "stream",
          "text": [
            "0/21\n",
            "1/21\n",
            "2/21\n",
            "3/21\n",
            "4/21\n",
            "5/21\n",
            "6/21\n",
            "7/21\n",
            "8/21\n",
            "9/21\n",
            "10/21\n",
            "11/21\n",
            "12/21\n",
            "13/21\n",
            "14/21\n",
            "15/21\n",
            "16/21\n",
            "17/21\n",
            "18/21\n",
            "19/21\n",
            "20/21\n"
          ]
        }
      ],
      "source": [
        "model1 = flattened_model1\n",
        "model2 = flattened_model2\n",
        "model3 = flattened_model2_permuted_flat\n",
        "cut_str = \"Model 1 - Model 2 - (Model 2 + permutations)\"\n",
        "\n",
        "keys = model1.keys()\n",
        "\n",
        "v1 = jnp.concatenate([model1[key].reshape([-1]) for key in keys],axis=0)\n",
        "v2 = jnp.concatenate([model2[key].reshape([-1]) for key in keys],axis=0)\n",
        "v3 = jnp.concatenate([model3[key].reshape([-1]) for key in keys],axis=0)\n",
        "\n",
        "basis1 = v2-v1\n",
        "basis1_normed = basis1 / jnp.sqrt(jnp.sum(basis1**2.0))\n",
        "basis2 = v3 - v1\n",
        "basis2 = basis2 - jnp.sum(basis2*basis1_normed)*basis1_normed #orthogonalization\n",
        "basis2_normed = basis2 / jnp.sqrt(jnp.sum(basis2**2.0))\n",
        "\n",
        "scale = jnp.sqrt(jnp.sum(basis1**2))\n",
        "\n",
        "t1s = np.linspace(-0.5,1.5,21)\n",
        "t2s = np.linspace(-0.5,1.5,20)\n",
        "\n",
        "acc_grid = np.zeros((len(t1s),len(t2s)))\n",
        "loss_grid = np.zeros((len(t1s),len(t2s)))\n",
        "logits_grid = np.zeros((len(t1s),len(t2s), 10000, 10))\n",
        "\n",
        "for i1,t1 in enumerate(t1s):\n",
        "  print(f\"{i1}/{len(t1s)}\")\n",
        "  for i2,t2 in enumerate(t2s):\n",
        "\n",
        "    new_flat_v = v1 + basis1_normed*t1*scale + basis2_normed*t2*scale\n",
        "    reconstructed_flat = reconstruct(new_flat_v, model1, keys)\n",
        "    actest_loss, test_accuracy, logits, onehots = stuff[\"dataset_predictions\"](unflatten_params(reconstructed_flat), test_ds,\n",
        "                                                                  10_000)\n",
        "    logits_grid[i1,i2] = np.array(logits[0])\n",
        "    \n",
        "    acc_grid[i1,i2] = test_accuracy\n",
        "    loss_grid[i1,i2] = actest_loss\n",
        "  \n",
        "def projection(vector):\n",
        "  x = jnp.sum((vector - v1)*basis1_normed)/scale\n",
        "  y = jnp.sum((vector - v1)*basis2_normed)/scale\n",
        "  return x,y\n",
        "\n"
      ]
    },
    {
      "cell_type": "code",
      "execution_count": 90,
      "metadata": {
        "colab": {
          "base_uri": "https://localhost:8080/",
          "height": 506
        },
        "id": "Xj99g13mNpcO",
        "outputId": "89c0074b-7861-4789-c264-d7606bd31874"
      },
      "outputs": [
        {
          "data": {
            "image/png": "[encoded data removed]",
            "text/plain": [
              "<Figure size 1000x700 with 2 Axes>"
            ]
          },
          "metadata": {},
          "output_type": "display_data"
        }
      ],
      "source": [
        "fig = plt.figure(figsize = (10,7),dpi=100)\n",
        "fig.patch.set_facecolor('white')\n",
        "\n",
        "plt.contourf(t1s,t2s,loss_grid.T,cmap=plt.cm.bwr_r,vmax=2.2,levels=40)\n",
        "plt.colorbar()\n",
        "\n",
        "x1,y1 = projection(v1)\n",
        "plt.scatter([x1],[y1],marker=\"x\",color=\"white\",s=400)\n",
        "\n",
        "\n",
        "x2,y2 = projection(v2)\n",
        "plt.scatter([x2],[y2],marker=\"x\",color=\"white\",s=400)\n",
        "\n",
        "x2p,y2p = projection(v3)\n",
        "plt.scatter([x2p],[y2p],marker=\"x\",color=\"white\",s=400)  #π(B)\n",
        "\n",
        "\n",
        "plt.plot([x1,x2p],[y1,y2p],linewidth=2,linestyle=\"--\",color=\"blue\",label=\"Weight matching\")\n",
        "plt.plot([x1,x2],[y1,y2],linewidth=2,linestyle=\"dotted\",color=\"blue\",label=\"Naive\")\n",
        "plt.arrow(x2,y2,x2p - x2,y2p - y2, length_includes_head=True, width=.01, label=\"Permutation\", color=\"blue\")\n",
        "\n",
        "plt.text(x1 - .15, y1 - .15, \"Model A\", color=\"white\", fontsize=10, weight=\"bold\")\n",
        "plt.text(x2, y2 - .15, \"Model B\", color=\"white\", fontsize=10, weight=\"bold\")\n",
        "plt.text(x2p - .25, y2p + .15, \"Permuted model B, $\\pi(B)$\", color=\"white\", fontsize=10, weight=\"bold\")\n",
        "\n",
        "\n",
        "plt.legend(fontsize=10)\n",
        "\n",
        "plt.show()\n"
      ]
    }
  ],
  "metadata": {
    "accelerator": "GPU",
    "colab": {
      "machine_shape": "hm",
      "provenance": []
    },
    "gpuClass": "standard",
    "kernelspec": {
      "display_name": "Python 3.9.13 ('jax_env')",
      "language": "python",
      "name": "python3"
    },
    "language_info": {
      "codemirror_mode": {
        "name": "ipython",
        "version": 3
      },
      "file_extension": ".py",
      "mimetype": "text/x-python",
      "name": "python",
      "nbconvert_exporter": "python",
      "pygments_lexer": "ipython3",
      "version": "3.9.13"
    },
    "vscode": {
      "interpreter": {
        "hash": "402007b4c811ecdf694fed2e2753b0f3d5bf9a64e8c58bb62106b798799da515"
      }
    }
  },
  "nbformat": 4,
  "nbformat_minor": 0
}
